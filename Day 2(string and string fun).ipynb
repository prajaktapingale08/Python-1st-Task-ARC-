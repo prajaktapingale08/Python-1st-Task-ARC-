{
 "cells": [
  {
   "cell_type": "markdown",
   "id": "7b11ed94-28ad-4cd9-a7d8-6dcf2de549c2",
   "metadata": {},
   "source": [
    "# 1 String And String Funcation"
   ]
  },
  {
   "cell_type": "code",
   "execution_count": 23,
   "id": "fad3b2ae-f1b2-4522-a7f4-9e2cb5a2e8fc",
   "metadata": {},
   "outputs": [
    {
     "name": "stdout",
     "output_type": "stream",
     "text": [
      "Hello My Name is Prajakta Pingale\n"
     ]
    }
   ],
   "source": [
    " Name = \"Hello My Name is Prajakta Pingale\"\n",
    "print (Name)"
   ]
  },
  {
   "cell_type": "markdown",
   "id": "d0e56674-69af-468d-95c1-92aea724ac42",
   "metadata": {},
   "source": [
    "## Input"
   ]
  },
  {
   "cell_type": "code",
   "execution_count": 24,
   "id": "ca0e9807-0f3a-44ac-bbdb-9d4715bcea03",
   "metadata": {},
   "outputs": [
    {
     "name": "stdin",
     "output_type": "stream",
     "text": [
      "Enter your Role Data Analyst\n"
     ]
    },
    {
     "name": "stdout",
     "output_type": "stream",
     "text": [
      "My Role is Data Analyst\n"
     ]
    }
   ],
   "source": [
    "Role = input (\"Enter your Role\")\n",
    "print (f'My Role is { Role}')"
   ]
  },
  {
   "cell_type": "code",
   "execution_count": 37,
   "id": "114358e7-b70e-4185-ba14-cc9ce561b26f",
   "metadata": {},
   "outputs": [
    {
     "name": "stdin",
     "output_type": "stream",
     "text": [
      " name Ambadas\n"
     ]
    },
    {
     "name": "stdout",
     "output_type": "stream",
     "text": [
      " My Fathers Name is Ambadas\n"
     ]
    }
   ],
   "source": [
    "Father = input (\" name\")\n",
    "print (f' My Fathers Name is {Father}')"
   ]
  },
  {
   "cell_type": "markdown",
   "id": "4bcf4746-9ce0-4c92-9fdb-00ff91bb3edf",
   "metadata": {},
   "source": [
    "## Format"
   ]
  },
  {
   "cell_type": "code",
   "execution_count": 38,
   "id": "9464d8b7-779e-467b-9909-2cf26fdb85a1",
   "metadata": {},
   "outputs": [
    {
     "name": "stdout",
     "output_type": "stream",
     "text": [
      "My Role is Data Analyst\n"
     ]
    }
   ],
   "source": [
    "print ('My Role is {}'.format(\"Data Analyst\"))"
   ]
  },
  {
   "cell_type": "code",
   "execution_count": 39,
   "id": "e68e513a-c6ca-4c85-a18a-c5af3f8566c0",
   "metadata": {},
   "outputs": [
    {
     "name": "stdout",
     "output_type": "stream",
     "text": [
      "Prajakta\n"
     ]
    }
   ],
   "source": [
    "Full_Name = \"Prajakta\"\n",
    "print(Full_Name)"
   ]
  },
  {
   "cell_type": "code",
   "execution_count": 40,
   "id": "c879ef23-f0fa-440b-8c18-0d843a6d24d0",
   "metadata": {},
   "outputs": [
    {
     "name": "stdout",
     "output_type": "stream",
     "text": [
      "My Firstname is Prajakta\n"
     ]
    }
   ],
   "source": [
    "print('My Firstname is {}'.format(Full_Name))"
   ]
  },
  {
   "cell_type": "code",
   "execution_count": 41,
   "id": "25455128-f8b2-4c79-a70b-42454a8c7853",
   "metadata": {},
   "outputs": [
    {
     "name": "stdout",
     "output_type": "stream",
     "text": [
      "My Firstname is Prajakta& Last Name isPingale\n"
     ]
    }
   ],
   "source": [
    "print ('My Firstname is {}& Last Name is{}'.format(Full_Name,\"Pingale\"))"
   ]
  },
  {
   "cell_type": "markdown",
   "id": "55571541-3d19-48b3-9e80-644b7388ae8f",
   "metadata": {},
   "source": [
    "## Length"
   ]
  },
  {
   "cell_type": "code",
   "execution_count": 42,
   "id": "9fba9f90-80eb-47cd-a5d8-e82b60eb8043",
   "metadata": {},
   "outputs": [
    {
     "name": "stdout",
     "output_type": "stream",
     "text": [
      "33\n"
     ]
    }
   ],
   "source": [
    "print(len(Name))"
   ]
  },
  {
   "cell_type": "code",
   "execution_count": 43,
   "id": "2760c4c7-77f6-40c3-9630-b4d4718f5ce8",
   "metadata": {},
   "outputs": [
    {
     "name": "stdout",
     "output_type": "stream",
     "text": [
      "12\n"
     ]
    }
   ],
   "source": [
    "print(len(Role))"
   ]
  },
  {
   "cell_type": "code",
   "execution_count": 44,
   "id": "1e91cac3-af49-4115-8b92-893855e760d4",
   "metadata": {},
   "outputs": [
    {
     "name": "stdout",
     "output_type": "stream",
     "text": [
      "8\n"
     ]
    }
   ],
   "source": [
    "print (len(Full_Name))"
   ]
  },
  {
   "cell_type": "markdown",
   "id": "bd3ec198-de1b-440f-8d3d-8e5cca51f29b",
   "metadata": {},
   "source": [
    "## String"
   ]
  },
  {
   "cell_type": "code",
   "execution_count": 45,
   "id": "87baf1d8-c78b-4d48-b0bf-860b847e2345",
   "metadata": {},
   "outputs": [
    {
     "data": {
      "text/plain": [
       "'2550'"
      ]
     },
     "execution_count": 45,
     "metadata": {},
     "output_type": "execute_result"
    }
   ],
   "source": [
    "A = str(25)\n",
    "B = str(50)\n",
    "A + B\n"
   ]
  },
  {
   "cell_type": "code",
   "execution_count": 46,
   "id": "a7b98aed-9f09-4643-a4f3-173564fa2292",
   "metadata": {},
   "outputs": [
    {
     "data": {
      "text/plain": [
       "'8390858852'"
      ]
     },
     "execution_count": 46,
     "metadata": {},
     "output_type": "execute_result"
    }
   ],
   "source": [
    "C = str(83908)\n",
    "D = str(58852)\n",
    "C + D"
   ]
  },
  {
   "cell_type": "markdown",
   "id": "8bb45ac7-429a-4fe3-8b96-6ea429c2aa46",
   "metadata": {},
   "source": [
    "#  2 Case Converstion Function"
   ]
  },
  {
   "cell_type": "markdown",
   "id": "0a1293cf-8b4c-4f17-9d9e-da44d47b2ce4",
   "metadata": {},
   "source": [
    "* ## Lower"
   ]
  },
  {
   "cell_type": "code",
   "execution_count": 47,
   "id": "ee5b36aa-2675-4fe8-9d16-783b67c3757a",
   "metadata": {},
   "outputs": [
    {
     "name": "stdout",
     "output_type": "stream",
     "text": [
      " push yourself,because no one eles is going to do it for you \n"
     ]
    }
   ],
   "source": [
    "th = \" Push Yourself,Because No One Eles Is Going To Do It For You \"\n",
    "print(th.lower())"
   ]
  },
  {
   "cell_type": "code",
   "execution_count": 48,
   "id": "4d9611b0-338a-4a4e-b9e8-25dc6b4e6526",
   "metadata": {},
   "outputs": [
    {
     "name": "stdout",
     "output_type": "stream",
     "text": [
      "success is not accident. it is hard work ,preseverance, learning, studying , sacrificr & most of all , love of what you are doing or learning to do\n"
     ]
    }
   ],
   "source": [
    "Tho = \"Success is Not Accident. It Is Hard Work ,Preseverance, Learning, Studying , Sacrificr & Most Of All , Love Of What You Are Doing Or Learning To Do\"\n",
    "print (Tho.lower())"
   ]
  },
  {
   "cell_type": "markdown",
   "id": "78b9a43e-2557-4a79-b067-b75ae144d72f",
   "metadata": {},
   "source": [
    "* ## Upper"
   ]
  },
  {
   "cell_type": "code",
   "execution_count": 51,
   "id": "b941ae7b-04d8-4521-b833-1bbe12f319f5",
   "metadata": {},
   "outputs": [
    {
     "name": "stdout",
     "output_type": "stream",
     "text": [
      "STAY FOCUSED AND WORK HARD\n"
     ]
    }
   ],
   "source": [
    "Mo = \"Stay Focused And Work Hard\"\n",
    "print(Mo.upper())"
   ]
  },
  {
   "cell_type": "code",
   "execution_count": 53,
   "id": "364d6f90-ce62-418b-89a0-a62f6c092e10",
   "metadata": {},
   "outputs": [
    {
     "name": "stdout",
     "output_type": "stream",
     "text": [
      "SUCCESS IS JOURNEY NOT A DESTINASTION\n"
     ]
    }
   ],
   "source": [
    "Mot = \"Success Is journey not a destinastion\"\n",
    "print (Mot.upper())"
   ]
  },
  {
   "cell_type": "markdown",
   "id": "9b45f331-c433-4b2d-adee-3c27467d945a",
   "metadata": {},
   "source": [
    "* ## Title "
   ]
  },
  {
   "cell_type": "code",
   "execution_count": 54,
   "id": "91a87a29-1ccf-46f6-8b75-1a9054781847",
   "metadata": {},
   "outputs": [
    {
     "name": "stdout",
     "output_type": "stream",
     "text": [
      "Success Is Not Accident. It Is Hard Work ,Preseverance, Learning, Studying , Sacrificr & Most Of All , Love Of What You Are Doing Or Learning To Do\n"
     ]
    }
   ],
   "source": [
    "print (Tho.title())"
   ]
  },
  {
   "cell_type": "code",
   "execution_count": 56,
   "id": "a4e3d024-0a25-4211-b4a4-3b54cf690dc5",
   "metadata": {},
   "outputs": [
    {
     "name": "stdout",
     "output_type": "stream",
     "text": [
      "Never Give Up Good Thinks Take A Time Do It Hard Work\n"
     ]
    }
   ],
   "source": [
    "print ( 'never give up good thinks take a time do it hard work'.title())"
   ]
  },
  {
   "cell_type": "markdown",
   "id": "9644ca6e-4424-45e3-a970-46bfe2f671de",
   "metadata": {},
   "source": [
    "* ## Capitalize"
   ]
  },
  {
   "cell_type": "code",
   "execution_count": 61,
   "id": "34a30083-5281-487e-9fa1-0f16372b5e03",
   "metadata": {},
   "outputs": [
    {
     "name": "stdout",
     "output_type": "stream",
     "text": [
      "Everyday is a chance to be better\n"
     ]
    }
   ],
   "source": [
    "one = \"everyday is a chance to be better\"\n",
    "print(one.capitalize())"
   ]
  },
  {
   "cell_type": "markdown",
   "id": "79c6c5ec-8a6a-469d-ab95-1a5c53ee5d49",
   "metadata": {},
   "source": [
    "* ## Swapcase"
   ]
  },
  {
   "cell_type": "code",
   "execution_count": 62,
   "id": "2620fdd5-22e5-4d95-b497-ec7ac1a7c039",
   "metadata": {},
   "outputs": [
    {
     "name": "stdout",
     "output_type": "stream",
     "text": [
      "EVERYDAY IS A CHANCE TO BE BETTER\n"
     ]
    }
   ],
   "source": [
    "print (one.swapcase())"
   ]
  },
  {
   "cell_type": "markdown",
   "id": "f5c6f974-e546-498f-8bb6-bc394641368e",
   "metadata": {},
   "source": [
    "# 3 White Space Removle Funcations"
   ]
  },
  {
   "cell_type": "markdown",
   "id": "475e74a9-7d41-464b-ae1b-0366314c17d4",
   "metadata": {},
   "source": [
    "* ## WhiteSpace"
   ]
  },
  {
   "cell_type": "code",
   "execution_count": 70,
   "id": "cd806467-ca0d-4f77-952c-c5bfdbbce230",
   "metadata": {},
   "outputs": [
    {
     "name": "stdout",
     "output_type": "stream",
     "text": [
      "28\n",
      "        Pallavi tai         \n"
     ]
    }
   ],
   "source": [
    "wh= \"        Pallavi tai         \"\n",
    "print(len(wh))\n",
    "print (wh)"
   ]
  },
  {
   "cell_type": "code",
   "execution_count": 73,
   "id": "8060f2bb-67e5-4715-b3ea-7dfa2a583621",
   "metadata": {},
   "outputs": [
    {
     "name": "stdout",
     "output_type": "stream",
     "text": [
      "      Pallavi DI & jotshna Both are my       Best Friends      \n"
     ]
    }
   ],
   "source": [
    "print (\"      Pallavi DI & jotshna Both are my       Best Friends      \" )\n"
   ]
  },
  {
   "cell_type": "markdown",
   "id": "1ab4348e-abf2-4dd0-89de-19abca794cda",
   "metadata": {},
   "source": [
    "* ##  Strip"
   ]
  },
  {
   "cell_type": "code",
   "execution_count": 76,
   "id": "c96d8645-4932-40c4-84ae-37784a782066",
   "metadata": {},
   "outputs": [
    {
     "name": "stdout",
     "output_type": "stream",
     "text": [
      "Just     Do     It\n",
      "29\n"
     ]
    }
   ],
   "source": [
    "st = '      Just     Do     It     '\n",
    "print (st. strip())\n",
    "print (len (st))"
   ]
  },
  {
   "cell_type": "code",
   "execution_count": 78,
   "id": "7a0e91fb-1098-4fe9-b44f-4a4fffbd363a",
   "metadata": {},
   "outputs": [
    {
     "name": "stdout",
     "output_type": "stream",
     "text": [
      "Dont Waste Your Time For Watching Reels\n",
      "64\n"
     ]
    }
   ],
   "source": [
    "stripp = '     Dont Waste Your Time For Watching Reels                    '\n",
    "print (stripp.strip())\n",
    "print (len (stripp))"
   ]
  },
  {
   "cell_type": "markdown",
   "id": "eebcefda-d36e-465c-bc82-aebb122059e3",
   "metadata": {},
   "source": [
    "*  ## L Strip"
   ]
  },
  {
   "cell_type": "code",
   "execution_count": 79,
   "id": "0539654e-8585-4978-a154-c3f8529041a1",
   "metadata": {},
   "outputs": [
    {
     "name": "stdout",
     "output_type": "stream",
     "text": [
      "Just     Do     It     \n"
     ]
    }
   ],
   "source": [
    "print (st.lstrip())"
   ]
  },
  {
   "cell_type": "code",
   "execution_count": 80,
   "id": "40731a8e-b359-4563-8a27-91bbe0432052",
   "metadata": {},
   "outputs": [
    {
     "name": "stdout",
     "output_type": "stream",
     "text": [
      "Dont Waste Your Time For Watching Reels                    \n"
     ]
    }
   ],
   "source": [
    "print (stripp.lstrip())"
   ]
  },
  {
   "cell_type": "markdown",
   "id": "1192e462-9b26-4657-aa1c-f931e21a50e9",
   "metadata": {},
   "source": [
    "* ## R Strip"
   ]
  },
  {
   "cell_type": "code",
   "execution_count": 81,
   "id": "54381df7-1e85-4f4c-a0d6-3ef25e8c2caa",
   "metadata": {},
   "outputs": [
    {
     "name": "stdout",
     "output_type": "stream",
     "text": [
      "      Just     Do     It\n"
     ]
    }
   ],
   "source": [
    "print (st.rstrip())"
   ]
  },
  {
   "cell_type": "code",
   "execution_count": 82,
   "id": "eba20437-2f89-4ffc-a274-db3dd834049a",
   "metadata": {},
   "outputs": [
    {
     "name": "stdout",
     "output_type": "stream",
     "text": [
      "     Dont Waste Your Time For Watching Reels\n"
     ]
    }
   ],
   "source": [
    "print (stripp.rstrip())"
   ]
  },
  {
   "cell_type": "markdown",
   "id": "f596c6d8-fdf7-46cc-8c13-3c389d9488f7",
   "metadata": {},
   "source": [
    "#  4 String Searching Funcation"
   ]
  },
  {
   "cell_type": "markdown",
   "id": "4f1b3ecc-a330-45a7-bf69-8617f6e9e4ab",
   "metadata": {},
   "source": [
    "* ## Find "
   ]
  },
  {
   "cell_type": "code",
   "execution_count": 84,
   "id": "0ef9cc20-f86f-4e80-8510-edb997f93d2a",
   "metadata": {},
   "outputs": [
    {
     "name": "stdout",
     "output_type": "stream",
     "text": [
      "5\n"
     ]
    }
   ],
   "source": [
    "print (one. find('d'))"
   ]
  },
  {
   "cell_type": "code",
   "execution_count": 85,
   "id": "295ba8ad-8c39-4ad3-8eed-e64ea96e9c23",
   "metadata": {},
   "outputs": [
    {
     "name": "stdout",
     "output_type": "stream",
     "text": [
      "15\n"
     ]
    }
   ],
   "source": [
    "print (st.find(\"D\"))"
   ]
  },
  {
   "cell_type": "code",
   "execution_count": 86,
   "id": "1667e26a-4779-4bd5-816c-05f318c67f41",
   "metadata": {},
   "outputs": [
    {
     "name": "stdout",
     "output_type": "stream",
     "text": [
      "16\n"
     ]
    }
   ],
   "source": [
    "print(stripp.find(\"Y\"))"
   ]
  },
  {
   "cell_type": "code",
   "execution_count": 88,
   "id": "204a48e8-4bd3-49bf-9138-6f112ac5d17c",
   "metadata": {},
   "outputs": [
    {
     "name": "stdout",
     "output_type": "stream",
     "text": [
      "-1\n"
     ]
    }
   ],
   "source": [
    "print (st. find('p'))"
   ]
  },
  {
   "cell_type": "markdown",
   "id": "f56900d9-1634-47f8-8d51-d5ab5be7026b",
   "metadata": {},
   "source": [
    "* ## Index"
   ]
  },
  {
   "cell_type": "code",
   "execution_count": 89,
   "id": "7a942390-3561-4cc5-bb63-c3d5fd5d847e",
   "metadata": {},
   "outputs": [
    {
     "name": "stdout",
     "output_type": "stream",
     "text": [
      "6\n"
     ]
    }
   ],
   "source": [
    "print (st.index('J'))"
   ]
  },
  {
   "cell_type": "code",
   "execution_count": 94,
   "id": "95c945e4-404d-42c0-8041-04b704b32aa0",
   "metadata": {},
   "outputs": [
    {
     "name": "stdout",
     "output_type": "stream",
     "text": [
      "8\n"
     ]
    }
   ],
   "source": [
    "print (Mot. index('I'))"
   ]
  },
  {
   "cell_type": "markdown",
   "id": "5318bce0-aad4-4d3b-b8c4-42ea9e7b93bd",
   "metadata": {},
   "source": [
    "* ## Count "
   ]
  },
  {
   "cell_type": "code",
   "execution_count": 96,
   "id": "488f9045-4e1b-41dc-9259-5f97f85381a0",
   "metadata": {},
   "outputs": [
    {
     "name": "stdout",
     "output_type": "stream",
     "text": [
      "Pallavi Di Jotshna\n",
      "3\n"
     ]
    }
   ],
   "source": [
    "AA = 'Pallavi Di Jotshna'\n",
    "print(AA)\n",
    "print (AA. count('a'))"
   ]
  },
  {
   "cell_type": "code",
   "execution_count": 97,
   "id": "ea545a79-f69a-46f1-a48e-3549b7d62f97",
   "metadata": {},
   "outputs": [
    {
     "name": "stdout",
     "output_type": "stream",
     "text": [
      "2\n"
     ]
    }
   ],
   "source": [
    "print (AA.count('l'))"
   ]
  },
  {
   "cell_type": "code",
   "execution_count": 99,
   "id": "4057dbb7-894d-4cc9-8164-cb1373580035",
   "metadata": {},
   "outputs": [
    {
     "name": "stdout",
     "output_type": "stream",
     "text": [
      "1\n"
     ]
    }
   ],
   "source": [
    "print(AA.count('J'))"
   ]
  },
  {
   "cell_type": "markdown",
   "id": "51627ada-1edf-4291-a760-ad41bc9c955b",
   "metadata": {},
   "source": [
    "* ## StartsWith"
   ]
  },
  {
   "cell_type": "code",
   "execution_count": 100,
   "id": "d5417ade-6120-4c0c-9bd9-5cfbfaaa44dd",
   "metadata": {},
   "outputs": [
    {
     "name": "stdout",
     "output_type": "stream",
     "text": [
      "False\n"
     ]
    }
   ],
   "source": [
    "BB = \"Think Big Trust Your Self And Make It Happen\"\n",
    "print (BB.startswith(\"B\"))"
   ]
  },
  {
   "cell_type": "code",
   "execution_count": 102,
   "id": "786e5911-6332-4129-bad4-c00e8e1e7a9a",
   "metadata": {},
   "outputs": [
    {
     "name": "stdout",
     "output_type": "stream",
     "text": [
      "False\n"
     ]
    }
   ],
   "source": [
    "print (BB. startswith (\"t\"))"
   ]
  },
  {
   "cell_type": "code",
   "execution_count": 104,
   "id": "0efe42cc-77d5-4830-86db-58de4e1796c8",
   "metadata": {},
   "outputs": [
    {
     "name": "stdout",
     "output_type": "stream",
     "text": [
      "True\n"
     ]
    }
   ],
   "source": [
    "print(BB.startswith('T'))"
   ]
  },
  {
   "cell_type": "markdown",
   "id": "4c563fc1-8e4c-4e38-99ee-a7f85a289fa2",
   "metadata": {},
   "source": [
    "* ## EndsWith"
   ]
  },
  {
   "cell_type": "code",
   "execution_count": 105,
   "id": "3395bbc6-dda4-416f-8901-8d943154c384",
   "metadata": {},
   "outputs": [
    {
     "name": "stdout",
     "output_type": "stream",
     "text": [
      "False\n"
     ]
    }
   ],
   "source": [
    "print (BB.endswith(\"T\"))"
   ]
  },
  {
   "cell_type": "code",
   "execution_count": 108,
   "id": "9a411fc0-c7e7-4c6d-875d-509b9ea33324",
   "metadata": {},
   "outputs": [
    {
     "name": "stdout",
     "output_type": "stream",
     "text": [
      "False\n"
     ]
    }
   ],
   "source": [
    "print (BB.endswith('H'))"
   ]
  },
  {
   "cell_type": "markdown",
   "id": "caec570d-fc6c-4381-bc99-d414276c08f1",
   "metadata": {},
   "source": [
    "# 5 String Replace Funcation "
   ]
  },
  {
   "cell_type": "markdown",
   "id": "61eca12d-7fcc-4470-b750-3b786b1133e0",
   "metadata": {},
   "source": [
    "* # Replace "
   ]
  },
  {
   "cell_type": "code",
   "execution_count": 109,
   "id": "b84581d9-5246-4919-9cf5-c8c1a04074e1",
   "metadata": {},
   "outputs": [
    {
     "name": "stdout",
     "output_type": "stream",
     "text": [
      "The Best Preparation For Tomorrow Is Doing Your Best Today\n"
     ]
    }
   ],
   "source": [
    "cc = \"The Best Preparation For Tomorrow Is Doing Your Best Today\"\n",
    "print(cc)"
   ]
  },
  {
   "cell_type": "code",
   "execution_count": 110,
   "id": "74066847-6a85-4153-a5b2-6fd343a46beb",
   "metadata": {},
   "outputs": [
    {
     "name": "stdout",
     "output_type": "stream",
     "text": [
      "The Good Preparation For Tomorrow Is Doing Your Good Today\n"
     ]
    }
   ],
   "source": [
    "print (cc.replace('Best', 'Good'))"
   ]
  },
  {
   "cell_type": "code",
   "execution_count": 111,
   "id": "632adef9-0486-4aab-a2fa-aad945a71d23",
   "metadata": {},
   "outputs": [
    {
     "name": "stdout",
     "output_type": "stream",
     "text": [
      "A Best Preparation For Tomorrow Is Doing Your Best Today\n"
     ]
    }
   ],
   "source": [
    "print(cc.replace ('The','A'))"
   ]
  },
  {
   "cell_type": "markdown",
   "id": "dc8266f9-06a4-477f-9bac-40689962fc8c",
   "metadata": {},
   "source": [
    "* ## Split"
   ]
  },
  {
   "cell_type": "code",
   "execution_count": 112,
   "id": "9da56fdb-b66a-4968-8625-e505139efd19",
   "metadata": {},
   "outputs": [
    {
     "name": "stdout",
     "output_type": "stream",
     "text": [
      "['The', 'Best', 'Preparation', 'For', 'Tomorrow', 'Is', 'Doing', 'Your', 'Best', 'Today']\n"
     ]
    }
   ],
   "source": [
    "print (cc.split())"
   ]
  },
  {
   "cell_type": "code",
   "execution_count": 113,
   "id": "746d3219-cc58-4f60-bdab-6116f1e5c3d6",
   "metadata": {},
   "outputs": [
    {
     "name": "stdout",
     "output_type": "stream",
     "text": [
      "['everyday', 'is', 'a', 'chance', 'to', 'be', 'better']\n"
     ]
    }
   ],
   "source": [
    "print(one.split())"
   ]
  },
  {
   "cell_type": "code",
   "execution_count": 115,
   "id": "e4e7b861-6bea-440c-b299-e12be74acf52",
   "metadata": {},
   "outputs": [
    {
     "name": "stdout",
     "output_type": "stream",
     "text": [
      "['Success', 'Is', 'journey', 'not', 'a', 'destinastion']\n"
     ]
    }
   ],
   "source": [
    "print(Mot.split())"
   ]
  },
  {
   "cell_type": "markdown",
   "id": "fd5e798f-d504-474f-8923-e95c6f68ee82",
   "metadata": {},
   "source": [
    "* ## SplitLines"
   ]
  },
  {
   "cell_type": "code",
   "execution_count": 119,
   "id": "5e46f175-8de2-4aca-ae04-be0f2818098b",
   "metadata": {},
   "outputs": [
    {
     "name": "stdout",
     "output_type": "stream",
     "text": [
      "['pallavi', 'jotsna']\n"
     ]
    }
   ],
   "source": [
    "dd = \"pallavi\\njotsna\"\n",
    "print (dd.splitlines())"
   ]
  },
  {
   "cell_type": "code",
   "execution_count": 120,
   "id": "117675b9-14a6-4d69-8195-e4d000561593",
   "metadata": {},
   "outputs": [
    {
     "name": "stdout",
     "output_type": "stream",
     "text": [
      "['Stay Strong Belive In Your Self Never Give up', ' Dont Waste Your Time To prove Your self']\n"
     ]
    }
   ],
   "source": [
    "ee = \"Stay Strong Belive In Your Self Never Give up\\n Dont Waste Your Time To prove Your self\"\n",
    "print (ee.splitlines())"
   ]
  },
  {
   "cell_type": "markdown",
   "id": "cc254c3c-6715-4e83-baff-7e20733c351e",
   "metadata": {},
   "source": [
    "# 6 String Alignment And Padding Funcations"
   ]
  },
  {
   "cell_type": "markdown",
   "id": "2053cc5a-320f-4391-9d5f-8626217f43d3",
   "metadata": {},
   "source": [
    "\n",
    "* ## LJust"
   ]
  },
  {
   "cell_type": "code",
   "execution_count": 124,
   "id": "2373d765-daf5-4923-ab92-8f1619c6ac9b",
   "metadata": {},
   "outputs": [
    {
     "name": "stdout",
     "output_type": "stream",
     "text": [
      "pallavi\n",
      "jotsna------\n"
     ]
    }
   ],
   "source": [
    "print (dd.ljust(20,'-'))"
   ]
  },
  {
   "cell_type": "code",
   "execution_count": 128,
   "id": "4cef05d1-562e-405d-b738-f518ce86fabc",
   "metadata": {},
   "outputs": [
    {
     "name": "stdout",
     "output_type": "stream",
     "text": [
      "Stay Strong Belive In Your Self Never Give up\n",
      " Dont Waste Your Time To prove Your self++++++++++++++++++++++++++++++++++++++++++++++++++++++++++++++++\n"
     ]
    }
   ],
   "source": [
    "print (ee.ljust(150,\"+\"))"
   ]
  },
  {
   "cell_type": "markdown",
   "id": "b5b17bbe-498c-4f4a-85b3-35dd93848bfd",
   "metadata": {},
   "source": [
    "* ## RJust"
   ]
  },
  {
   "cell_type": "code",
   "execution_count": 133,
   "id": "eb2b045a-c25c-4ff6-9fea-efcfd0a6511b",
   "metadata": {},
   "outputs": [
    {
     "name": "stdout",
     "output_type": "stream",
     "text": [
      "@@@@@@pallavi\n",
      "jotsna\n"
     ]
    }
   ],
   "source": [
    "print (dd.rjust(20,'@'))"
   ]
  },
  {
   "cell_type": "code",
   "execution_count": 132,
   "id": "e6e3bf01-e12c-40e7-831c-63a278cc532c",
   "metadata": {},
   "outputs": [
    {
     "name": "stdout",
     "output_type": "stream",
     "text": [
      "****************************************************************Stay Strong Belive In Your Self Never Give up\n",
      " Dont Waste Your Time To prove Your self\n"
     ]
    }
   ],
   "source": [
    "print (ee.rjust(150,'*'))"
   ]
  },
  {
   "cell_type": "markdown",
   "id": "039c4735-05d9-4191-bd8f-7af621446502",
   "metadata": {},
   "source": [
    "* ## Center"
   ]
  },
  {
   "cell_type": "code",
   "execution_count": 134,
   "id": "d7c449b5-6c37-40de-aa76-07cb0fdfd561",
   "metadata": {},
   "outputs": [
    {
     "name": "stdout",
     "output_type": "stream",
     "text": [
      "!!!!!!!!!!!!!!!!!!pallavi\n",
      "jotsna!!!!!!!!!!!!!!!!!!\n"
     ]
    }
   ],
   "source": [
    "print(dd.center(50,\"!\"))"
   ]
  },
  {
   "cell_type": "code",
   "execution_count": 138,
   "id": "2968678a-86f3-4412-9c09-2a8c5933fd2b",
   "metadata": {},
   "outputs": [
    {
     "name": "stdout",
     "output_type": "stream",
     "text": [
      "$$$$$$$$$$$$$$$$$$$$$$$$$$$$$$$$$$$$$$$$$$Stay Strong Belive In Your Self Never Give up\n",
      " Dont Waste Your Time To prove Your self$$$$$$$$$$$$$$$$$$$$$$$$$$$$$$$$$$$$$$$$$$\n"
     ]
    }
   ],
   "source": [
    "print (ee.center(170,\"$\"))"
   ]
  },
  {
   "cell_type": "markdown",
   "id": "26bb7767-49a4-4698-b586-a351984e7b9c",
   "metadata": {},
   "source": [
    "* ## Z Fill"
   ]
  },
  {
   "cell_type": "code",
   "execution_count": 141,
   "id": "2c0e348b-ddeb-4f53-9d02-3f90d6f35d89",
   "metadata": {},
   "outputs": [
    {
     "name": "stdout",
     "output_type": "stream",
     "text": [
      "000000pallavi\n",
      "jotsna\n"
     ]
    }
   ],
   "source": [
    "print(dd.zfill(20))"
   ]
  },
  {
   "cell_type": "code",
   "execution_count": 142,
   "id": "295bf7b7-9600-4197-b61a-3eabf7c503d9",
   "metadata": {},
   "outputs": [
    {
     "name": "stdout",
     "output_type": "stream",
     "text": [
      "00000000000000000000000000000000000000000000000000000000000Stay Strong Belive In Your Self Never Give up\n",
      " Dont Waste Your Time To prove Your self\n"
     ]
    }
   ],
   "source": [
    "print (ee.zfill(145))"
   ]
  },
  {
   "cell_type": "markdown",
   "id": "b6587313-328c-4113-ad12-5f4d73e796b2",
   "metadata": {},
   "source": [
    "# 7 String Checking Funcation (Returne Boolean values)"
   ]
  },
  {
   "cell_type": "markdown",
   "id": "4d5ad05d-894a-4984-beae-f34c5fce20b1",
   "metadata": {},
   "source": [
    " * ## Is Lower"
   ]
  },
  {
   "cell_type": "code",
   "execution_count": 165,
   "id": "5ff86515-4093-4a2a-bcef-58c749d83ef3",
   "metadata": {},
   "outputs": [
    {
     "name": "stdout",
     "output_type": "stream",
     "text": [
      "RISHIT PINGALE\n",
      "anjali pingale\n",
      " My Mummy & Brother\n",
      "             Family          \n"
     ]
    }
   ],
   "source": [
    "ff = \"RISHIT PINGALE\"\n",
    "gg = \"anjali pingale\"\n",
    "hh = \" My Mummy & Brother\"\n",
    "ii = \"             Family          \"\n",
    "print (ff)\n",
    "print(gg)\n",
    "print(hh)\n",
    "print (ii)"
   ]
  },
  {
   "cell_type": "code",
   "execution_count": 151,
   "id": "5fae14c7-9996-42d4-ac95-0a46a5179928",
   "metadata": {},
   "outputs": [
    {
     "name": "stdout",
     "output_type": "stream",
     "text": [
      "False\n"
     ]
    }
   ],
   "source": [
    " print (ff.islower())"
   ]
  },
  {
   "cell_type": "code",
   "execution_count": 152,
   "id": "bcd9ee2f-7778-4f54-85db-7636757116d7",
   "metadata": {},
   "outputs": [
    {
     "name": "stdout",
     "output_type": "stream",
     "text": [
      "True\n"
     ]
    }
   ],
   "source": [
    "print (gg.islower())"
   ]
  },
  {
   "cell_type": "code",
   "execution_count": 153,
   "id": "b73ff798-e778-4f29-ac7d-fcd02c82526a",
   "metadata": {},
   "outputs": [
    {
     "name": "stdout",
     "output_type": "stream",
     "text": [
      "False\n"
     ]
    }
   ],
   "source": [
    "print(hh.islower())"
   ]
  },
  {
   "cell_type": "markdown",
   "id": "46c1ea47-a6f5-444e-87a9-892f769412f8",
   "metadata": {},
   "source": [
    "* ## Is Upper"
   ]
  },
  {
   "cell_type": "code",
   "execution_count": 154,
   "id": "8304e7e5-8573-4b5c-a36a-4c46fffcd97c",
   "metadata": {},
   "outputs": [
    {
     "name": "stdout",
     "output_type": "stream",
     "text": [
      "True\n"
     ]
    }
   ],
   "source": [
    "print(ff.isupper())"
   ]
  },
  {
   "cell_type": "code",
   "execution_count": 155,
   "id": "536cea60-c0c8-4caf-afd3-c6492d4d2d39",
   "metadata": {},
   "outputs": [
    {
     "name": "stdout",
     "output_type": "stream",
     "text": [
      "False\n"
     ]
    }
   ],
   "source": [
    "print (gg.isupper())"
   ]
  },
  {
   "cell_type": "code",
   "execution_count": 156,
   "id": "56bfa7f1-2fda-4127-a80a-8b57053555cb",
   "metadata": {},
   "outputs": [
    {
     "name": "stdout",
     "output_type": "stream",
     "text": [
      "False\n"
     ]
    }
   ],
   "source": [
    "print (hh.isupper())"
   ]
  },
  {
   "cell_type": "markdown",
   "id": "71541211-c812-4737-b319-e5a7519c8fb4",
   "metadata": {},
   "source": [
    "* ## Is Title"
   ]
  },
  {
   "cell_type": "code",
   "execution_count": 158,
   "id": "fcc3c439-4ec3-4b9d-bf74-65e66a816301",
   "metadata": {},
   "outputs": [
    {
     "name": "stdout",
     "output_type": "stream",
     "text": [
      "False\n"
     ]
    }
   ],
   "source": [
    "print (ff.istitle())"
   ]
  },
  {
   "cell_type": "code",
   "execution_count": 159,
   "id": "63861715-52f6-4fd3-b4b4-400b2fb04f2e",
   "metadata": {},
   "outputs": [
    {
     "name": "stdout",
     "output_type": "stream",
     "text": [
      "False\n"
     ]
    }
   ],
   "source": [
    "print(gg.istitle())"
   ]
  },
  {
   "cell_type": "code",
   "execution_count": 160,
   "id": "2acacf10-be35-4f2c-9754-aaf81ef0a77f",
   "metadata": {},
   "outputs": [
    {
     "name": "stdout",
     "output_type": "stream",
     "text": [
      "True\n"
     ]
    }
   ],
   "source": [
    "print(hh.istitle())"
   ]
  },
  {
   "cell_type": "markdown",
   "id": "483bdb4c-8894-4ed8-9314-8eed12b6b560",
   "metadata": {},
   "source": [
    "* ## Is Space"
   ]
  },
  {
   "cell_type": "code",
   "execution_count": 161,
   "id": "54e3af7e-bd45-4eb3-bef4-7ef19dbd07f8",
   "metadata": {},
   "outputs": [
    {
     "name": "stdout",
     "output_type": "stream",
     "text": [
      "False\n"
     ]
    }
   ],
   "source": [
    "print(ff.isspace())"
   ]
  },
  {
   "cell_type": "code",
   "execution_count": 162,
   "id": "03937b61-ca97-4197-9e16-c461405c2a9a",
   "metadata": {},
   "outputs": [
    {
     "name": "stdout",
     "output_type": "stream",
     "text": [
      "False\n"
     ]
    }
   ],
   "source": [
    "print(gg.isspace())"
   ]
  },
  {
   "cell_type": "code",
   "execution_count": 163,
   "id": "b758b86a-825f-4b23-9749-adff76c0b315",
   "metadata": {},
   "outputs": [
    {
     "name": "stdout",
     "output_type": "stream",
     "text": [
      "False\n"
     ]
    }
   ],
   "source": [
    "print(hh.isspace())"
   ]
  },
  {
   "cell_type": "code",
   "execution_count": 166,
   "id": "a5a5ad3f-217b-44c0-a366-aa1464c6bfd3",
   "metadata": {},
   "outputs": [
    {
     "name": "stdout",
     "output_type": "stream",
     "text": [
      "False\n"
     ]
    }
   ],
   "source": [
    "print(ii.isspace())"
   ]
  },
  {
   "cell_type": "markdown",
   "id": "5095dc22-b17c-4ec7-afcf-315c4e86fd8b",
   "metadata": {},
   "source": [
    "* ## Is Digit "
   ]
  },
  {
   "cell_type": "code",
   "execution_count": 167,
   "id": "ce50acc2-4010-4e76-97f4-3a6b7fd24906",
   "metadata": {},
   "outputs": [],
   "source": [
    "jj = '9970652565'\n",
    "kk = 'Mummy137'\n",
    "ll = 'Python Wold'"
   ]
  },
  {
   "cell_type": "code",
   "execution_count": 168,
   "id": "e1874358-ec98-473d-8d20-f683fe61b605",
   "metadata": {},
   "outputs": [
    {
     "name": "stdout",
     "output_type": "stream",
     "text": [
      "True\n"
     ]
    }
   ],
   "source": [
    "print (jj.isdigit())"
   ]
  },
  {
   "cell_type": "code",
   "execution_count": 169,
   "id": "f72ff0c5-dcd7-4ece-996a-9388076faaec",
   "metadata": {},
   "outputs": [
    {
     "name": "stdout",
     "output_type": "stream",
     "text": [
      "False\n"
     ]
    }
   ],
   "source": [
    "print(kk.isdigit())"
   ]
  },
  {
   "cell_type": "code",
   "execution_count": 170,
   "id": "4b951352-e160-4755-8647-9a27fb319f86",
   "metadata": {},
   "outputs": [
    {
     "name": "stdout",
     "output_type": "stream",
     "text": [
      "False\n"
     ]
    }
   ],
   "source": [
    "print(ll.isdigit())"
   ]
  },
  {
   "cell_type": "markdown",
   "id": "c115457a-e84b-4c9e-b51e-e3495aa61040",
   "metadata": {},
   "source": [
    "* ## Is Alphanumeric"
   ]
  },
  {
   "cell_type": "code",
   "execution_count": 171,
   "id": "6a7fe8bc-4e29-473c-b2de-7768e90ccb0a",
   "metadata": {},
   "outputs": [
    {
     "name": "stdout",
     "output_type": "stream",
     "text": [
      "True\n"
     ]
    }
   ],
   "source": [
    "print (jj.isalnum())"
   ]
  },
  {
   "cell_type": "code",
   "execution_count": 172,
   "id": "3980645a-93b1-435e-96eb-c18783b9f6fd",
   "metadata": {},
   "outputs": [
    {
     "name": "stdout",
     "output_type": "stream",
     "text": [
      "True\n"
     ]
    }
   ],
   "source": [
    "print ( kk . isalnum())"
   ]
  },
  {
   "cell_type": "code",
   "execution_count": 173,
   "id": "f04f8393-ec67-4885-9258-8f0a4acde020",
   "metadata": {},
   "outputs": [
    {
     "name": "stdout",
     "output_type": "stream",
     "text": [
      "False\n"
     ]
    }
   ],
   "source": [
    "print(ll.isalnum())"
   ]
  },
  {
   "cell_type": "markdown",
   "id": "d8fe7595-8a0a-4252-bbd6-8448c72eda13",
   "metadata": {},
   "source": [
    "* ## Is Alphabetic"
   ]
  },
  {
   "cell_type": "code",
   "execution_count": 174,
   "id": "027fa48c-cf76-4aef-97cc-971e4dfae950",
   "metadata": {},
   "outputs": [
    {
     "name": "stdout",
     "output_type": "stream",
     "text": [
      "False\n"
     ]
    }
   ],
   "source": [
    "print(jj.isalpha())"
   ]
  },
  {
   "cell_type": "code",
   "execution_count": 175,
   "id": "32e87f86-bc75-49ef-8d1a-9cc8d657d4d0",
   "metadata": {},
   "outputs": [
    {
     "name": "stdout",
     "output_type": "stream",
     "text": [
      "False\n"
     ]
    }
   ],
   "source": [
    "print(kk.isalpha())"
   ]
  },
  {
   "cell_type": "code",
   "execution_count": 177,
   "id": "e8e62bb9-5102-4950-90cf-cebb750b9988",
   "metadata": {},
   "outputs": [
    {
     "name": "stdout",
     "output_type": "stream",
     "text": [
      "False\n"
     ]
    }
   ],
   "source": [
    "print(ll.isalpha())"
   ]
  },
  {
   "cell_type": "markdown",
   "id": "a694ea84-79a3-4bc2-bd51-79ea95ca9267",
   "metadata": {},
   "source": [
    "# 8 String Encoding & Decoding Funcation"
   ]
  },
  {
   "cell_type": "code",
   "execution_count": 179,
   "id": "553fdc41-8f28-47e9-8a5f-38fa689e641b",
   "metadata": {},
   "outputs": [
    {
     "name": "stdout",
     "output_type": "stream",
     "text": [
      "b'Python Wold'\n"
     ]
    }
   ],
   "source": [
    "print(ll.encode())"
   ]
  },
  {
   "cell_type": "code",
   "execution_count": 181,
   "id": "709cc44a-eea5-4a07-b6a0-596308d8307d",
   "metadata": {},
   "outputs": [
    {
     "name": "stdout",
     "output_type": "stream",
     "text": [
      "b'Python Wold'\n"
     ]
    }
   ],
   "source": [
    "Encode = (ll. encode())\n",
    "print(Encode)"
   ]
  },
  {
   "cell_type": "code",
   "execution_count": 182,
   "id": "a0be2aeb-a0d8-4a43-87dd-528f9c128362",
   "metadata": {},
   "outputs": [
    {
     "name": "stdout",
     "output_type": "stream",
     "text": [
      "Python Wold\n"
     ]
    }
   ],
   "source": [
    "print (Encode.decode())"
   ]
  },
  {
   "cell_type": "code",
   "execution_count": null,
   "id": "df35268a-061a-4eab-a3ad-769efe9d3dd3",
   "metadata": {},
   "outputs": [],
   "source": []
  }
 ],
 "metadata": {
  "kernelspec": {
   "display_name": "Python 3 (ipykernel)",
   "language": "python",
   "name": "python3"
  },
  "language_info": {
   "codemirror_mode": {
    "name": "ipython",
    "version": 3
   },
   "file_extension": ".py",
   "mimetype": "text/x-python",
   "name": "python",
   "nbconvert_exporter": "python",
   "pygments_lexer": "ipython3",
   "version": "3.12.7"
  }
 },
 "nbformat": 4,
 "nbformat_minor": 5
}
