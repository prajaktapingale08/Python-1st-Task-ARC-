{
 "cells": [
  {
   "cell_type": "markdown",
   "id": "c0af51d9-bc43-410d-b681-f0df2bf57be7",
   "metadata": {},
   "source": [
    "# List & List Funcation"
   ]
  },
  {
   "cell_type": "code",
   "execution_count": 152,
   "id": "7bccee0e-e48b-4061-ac0a-252dec3cd388",
   "metadata": {},
   "outputs": [
    {
     "name": "stdout",
     "output_type": "stream",
     "text": [
      "[1, 2, 3, 4, 5, 6, 7, 8, 9, 10, 11, 12, 13, 14, 15, 16, 17, 18, 19, 20]\n"
     ]
    }
   ],
   "source": [
    "num_list = [1,2,3,4,5,6,7,8,9,10,11,12,13,14,15,16,17,18,19,20]\n",
    "print (num_list)"
   ]
  },
  {
   "cell_type": "code",
   "execution_count": 153,
   "id": "3f78376e-7431-4b6a-b644-a03f879e3975",
   "metadata": {},
   "outputs": [
    {
     "name": "stdout",
     "output_type": "stream",
     "text": [
      "['Rishit', 'Sharvil', 'Riddhima', 'Shardul', 'Aarti', 'Aasth', 'Danish', 'Nudr', 'Pooj', 'Garg', 'Shourya']\n"
     ]
    }
   ],
   "source": [
    "str_list = ['Rishit','Sharvil','Riddhima','Shardul','Aarti', 'Aasth','Danish','Nudr','Pooj','Garg','Shourya']\n",
    "print(str_list)"
   ]
  },
  {
   "cell_type": "code",
   "execution_count": 154,
   "id": "be5b006e-f4d3-4ce3-a879-882dd035644d",
   "metadata": {},
   "outputs": [
    {
     "name": "stdout",
     "output_type": "stream",
     "text": [
      "[2, 1, 14, 28, 22, 3, 11, 'Anjali', 'Rekha', 'Pranjali', 'Shalakha']\n"
     ]
    }
   ],
   "source": [
    "mix_list = [2,1,14,28,22,3,11,'Anjali' , 'Rekha' , 'Pranjali' , 'Shalakha']\n",
    "print (mix_list)"
   ]
  },
  {
   "cell_type": "code",
   "execution_count": 155,
   "id": "22dfa372-ea5f-4bb0-ac03-689d1564c415",
   "metadata": {},
   "outputs": [
    {
     "name": "stdout",
     "output_type": "stream",
     "text": [
      "[['dep1', 'dep2', 'dep3', 'dep4', 'dep5'], ['101', '102', '103', '104', '105'], [10, 20, 30, 40, 50, 'emp1', 'emp2', 'emp3']]\n"
     ]
    }
   ],
   "source": [
    "List_inside_list = [['dep1','dep2','dep3','dep4','dep5'] ,['101','102','103','104','105'],[10,20,30,40,50,'emp1','emp2','emp3']]\n",
    "print(List_inside_list)"
   ]
  },
  {
   "cell_type": "markdown",
   "id": "9c0e0137-7bcc-42ae-97e5-fe42f3b37685",
   "metadata": {},
   "source": [
    "* ## How to Print List Values "
   ]
  },
  {
   "cell_type": "code",
   "execution_count": 156,
   "id": "7f57bb39-7a65-4939-a23d-7fd79303a616",
   "metadata": {},
   "outputs": [
    {
     "name": "stdout",
     "output_type": "stream",
     "text": [
      "6\n",
      "20\n"
     ]
    }
   ],
   "source": [
    "print (num_list[5])\n",
    "print (num_list[19])"
   ]
  },
  {
   "cell_type": "code",
   "execution_count": 157,
   "id": "957b740d-2662-4258-b4ff-f9713a52c2da",
   "metadata": {},
   "outputs": [
    {
     "name": "stdout",
     "output_type": "stream",
     "text": [
      "Rishit\n",
      "Shourya\n"
     ]
    }
   ],
   "source": [
    "print(str_list[0])\n",
    "print(str_list[10])\n",
    "    "
   ]
  },
  {
   "cell_type": "code",
   "execution_count": 158,
   "id": "4caca660-e863-4ef9-9e2b-5008d9addb71",
   "metadata": {},
   "outputs": [
    {
     "name": "stdout",
     "output_type": "stream",
     "text": [
      "Pranjali\n",
      "3\n"
     ]
    }
   ],
   "source": [
    "print(mix_list[9])\n",
    "print(mix_list[5])"
   ]
  },
  {
   "cell_type": "markdown",
   "id": "f15f3340-3d15-4d66-8a14-f83fc1e43d86",
   "metadata": {},
   "source": [
    "* ## Slicing lists"
   ]
  },
  {
   "cell_type": "code",
   "execution_count": 159,
   "id": "bfbe249d-ccac-41b4-81b4-5a747b0b7ef3",
   "metadata": {},
   "outputs": [
    {
     "name": "stdout",
     "output_type": "stream",
     "text": [
      "[3, 4, 5]\n"
     ]
    }
   ],
   "source": [
    "print(num_list[2:5])"
   ]
  },
  {
   "cell_type": "code",
   "execution_count": 160,
   "id": "3b7f3da7-ba45-439a-9040-a22a29e84897",
   "metadata": {},
   "outputs": [
    {
     "name": "stdout",
     "output_type": "stream",
     "text": [
      "[2, 3, 4, 5, 6, 7, 8, 9, 10, 11, 12, 13, 14, 15, 16, 17]\n"
     ]
    }
   ],
   "source": [
    "print (num_list[1:-3])"
   ]
  },
  {
   "cell_type": "markdown",
   "id": "0ab88d68-ba9f-43c8-8373-5538a14eea19",
   "metadata": {},
   "source": [
    "## Im also Print Whole list like"
   ]
  },
  {
   "cell_type": "code",
   "execution_count": 161,
   "id": "6c77cc3c-6001-4143-b8cb-88400fd605b5",
   "metadata": {},
   "outputs": [
    {
     "name": "stdout",
     "output_type": "stream",
     "text": [
      "[1, 2, 3, 4, 5, 6, 7, 8, 9, 10, 11, 12, 13, 14, 15, 16, 17, 18, 19, 20]\n",
      "['Rishit', 'Sharvil', 'Riddhima', 'Shardul', 'Aarti', 'Aasth', 'Danish', 'Nudr', 'Pooj', 'Garg', 'Shourya']\n",
      "[2, 1, 14, 28, 22, 3, 11, 'Anjali', 'Rekha', 'Pranjali', 'Shalakha']\n",
      "[['dep1', 'dep2', 'dep3', 'dep4', 'dep5'], ['101', '102', '103', '104', '105'], [10, 20, 30, 40, 50, 'emp1', 'emp2', 'emp3']]\n"
     ]
    }
   ],
   "source": [
    "print(num_list[::])\n",
    "print (str_list[::])\n",
    "print (mix_list[::])\n",
    "print(List_inside_list[::])"
   ]
  },
  {
   "cell_type": "code",
   "execution_count": 162,
   "id": "0e0ba1fb-6a92-4cad-b386-3cd5e095fc4c",
   "metadata": {},
   "outputs": [
    {
     "name": "stdout",
     "output_type": "stream",
     "text": [
      "[1, 4, 7, 10, 13, 16, 19]\n"
     ]
    }
   ],
   "source": [
    "print(num_list[::3])"
   ]
  },
  {
   "cell_type": "code",
   "execution_count": 163,
   "id": "476227bd-a37c-4dbe-bece-0f91792e2161",
   "metadata": {},
   "outputs": [
    {
     "name": "stdout",
     "output_type": "stream",
     "text": [
      "[2, 4, 6, 8, 10, 12, 14, 16, 18]\n"
     ]
    }
   ],
   "source": [
    "print(num_list[1:19:2])"
   ]
  },
  {
   "cell_type": "code",
   "execution_count": 164,
   "id": "e70ff6f6-2a64-48bd-8844-feb6ef3c9b4e",
   "metadata": {},
   "outputs": [
    {
     "name": "stdout",
     "output_type": "stream",
     "text": [
      "dep5\n",
      "emp3\n",
      "104\n"
     ]
    }
   ],
   "source": [
    "print(List_inside_list[0][4])\n",
    "print(List_inside_list[2][7])\n",
    "print(List_inside_list[1][3])"
   ]
  },
  {
   "cell_type": "markdown",
   "id": "6dfd6eb6-6ca8-4e73-9e3a-dccef46cfcee",
   "metadata": {},
   "source": [
    "* ## Modifying List"
   ]
  },
  {
   "cell_type": "code",
   "execution_count": 165,
   "id": "e33793d9-b0a4-4ac3-a17f-63de0f01bbc1",
   "metadata": {},
   "outputs": [
    {
     "name": "stdout",
     "output_type": "stream",
     "text": [
      "[2, 1, 14, 28, 22, 'Jotshna', 11, 'Anjali', 'Rekha', 'Pranjali', 'Shalakha']\n"
     ]
    }
   ],
   "source": [
    "mix_list[5] = 'Jotshna'\n",
    "print (mix_list)"
   ]
  },
  {
   "cell_type": "code",
   "execution_count": 166,
   "id": "54c013ef-ee01-4c0e-8378-f5f281a19e16",
   "metadata": {},
   "outputs": [
    {
     "name": "stdout",
     "output_type": "stream",
     "text": [
      "[1, 2, 3, 4, 5, 6, 7, 8, 9, 10, 11, 12, 13, 14, 15, 16, 17, 18, 19, 21]\n"
     ]
    }
   ],
   "source": [
    "num_list[19] = 21\n",
    "print (num_list)"
   ]
  },
  {
   "cell_type": "markdown",
   "id": "f53761a1-73b9-4f0c-a9f6-98a0baca91a2",
   "metadata": {},
   "source": [
    "* ## Appending Elements"
   ]
  },
  {
   "cell_type": "code",
   "execution_count": 167,
   "id": "1c5eee1e-eae3-42e5-a8e9-be0984b3f815",
   "metadata": {},
   "outputs": [
    {
     "name": "stdout",
     "output_type": "stream",
     "text": [
      "[1, 2, 3, 4, 5, 6, 7, 8, 9, 10, 11, 12, 13, 14, 15, 16, 17, 18, 19, 21, 23]\n"
     ]
    }
   ],
   "source": [
    "num_list.append(23)\n",
    "print (num_list)"
   ]
  },
  {
   "cell_type": "code",
   "execution_count": 168,
   "id": "2361934b-eaff-4a96-9971-a6afd04cf45b",
   "metadata": {},
   "outputs": [
    {
     "name": "stdout",
     "output_type": "stream",
     "text": [
      "['Rishit', 'Sharvil', 'Riddhima', 'Shardul', 'Aarti', 'Aasth', 'Danish', 'Nudr', 'Pooj', 'Garg', 'Shourya', 'Prajakta']\n"
     ]
    }
   ],
   "source": [
    "str_list.append('Prajakta')\n",
    "print(str_list)"
   ]
  },
  {
   "cell_type": "code",
   "execution_count": 169,
   "id": "edd601aa-3e6e-425a-9ebf-780126ad5893",
   "metadata": {},
   "outputs": [
    {
     "name": "stdout",
     "output_type": "stream",
     "text": [
      "[['dep1', 'dep2', 'dep3', 'dep4', 'dep5'], ['101', '102', '103', '104', '105'], [10, 20, 30, 40, 50, 'emp1', 'emp2', 'emp3'], 'dep6']\n"
     ]
    }
   ],
   "source": [
    "List_inside_list.append('dep6')\n",
    "print(List_inside_list)"
   ]
  },
  {
   "cell_type": "markdown",
   "id": "3f1f7270-f1e7-4b10-899d-1bfd1e4e7907",
   "metadata": {},
   "source": [
    "* ## Insert Elements"
   ]
  },
  {
   "cell_type": "code",
   "execution_count": 170,
   "id": "aaed2942-e88c-4b7c-b981-42e5d86606c8",
   "metadata": {},
   "outputs": [
    {
     "name": "stdout",
     "output_type": "stream",
     "text": [
      "[1, 2, 3, 4, 5, 6, 7, 8, 9, 10, 11, 12, 13, 14, 15, 16, 17, 18, 19, 21, 22, 23]\n"
     ]
    }
   ],
   "source": [
    "num_list.insert(20,22)\n",
    "print(num_list)"
   ]
  },
  {
   "cell_type": "code",
   "execution_count": 171,
   "id": "d1d22223-fae8-4f93-b10f-ba3517775e20",
   "metadata": {},
   "outputs": [
    {
     "name": "stdout",
     "output_type": "stream",
     "text": [
      "['Rishit', 'Sharvil', 'Riddhima', 'Shardul', 'Aarti', 'Aasth', 'Danish', 'Nudr', 'Pooj', 'Garg', 'Pallavi Tai', 'Shourya', 'Prajakta']\n"
     ]
    }
   ],
   "source": [
    "str_list.insert(10,'Pallavi Tai')\n",
    "print(str_list)"
   ]
  },
  {
   "cell_type": "markdown",
   "id": "bedc241f-d089-4e17-b5d3-4dfe09a2e49d",
   "metadata": {},
   "source": [
    "* ## Remove Elements"
   ]
  },
  {
   "cell_type": "code",
   "execution_count": 172,
   "id": "7812e871-0b04-4be5-8a3f-4846ef8d659b",
   "metadata": {},
   "outputs": [
    {
     "name": "stdout",
     "output_type": "stream",
     "text": [
      "[1, 2, 3, 4, 5, 6, 7, 8, 9, 10, 11, 12, 13, 14, 15, 16, 17, 18, 19, 21, 23]\n"
     ]
    }
   ],
   "source": [
    "num_list.remove(22)\n",
    "print (num_list)"
   ]
  },
  {
   "cell_type": "code",
   "execution_count": 173,
   "id": "98ea3c54-1a1d-44b3-9e4a-f48be49fa39a",
   "metadata": {},
   "outputs": [
    {
     "name": "stdout",
     "output_type": "stream",
     "text": [
      "['Rishit', 'Sharvil', 'Riddhima', 'Shardul', 'Aarti', 'Aasth', 'Danish', 'Nudr', 'Pooj', 'Garg', 'Pallavi Tai', 'Shourya']\n"
     ]
    }
   ],
   "source": [
    "str_list.remove('Prajakta')\n",
    "print(str_list)"
   ]
  },
  {
   "cell_type": "code",
   "execution_count": 174,
   "id": "0da46299-c8e3-49dc-9897-1e40b2741316",
   "metadata": {},
   "outputs": [
    {
     "name": "stdout",
     "output_type": "stream",
     "text": [
      "[['dep1', 'dep2', 'dep3', 'dep4', 'dep5'], ['101', '102', '103', '104', '105'], [10, 20, 30, 40, 50, 'emp1', 'emp2', 'emp3']]\n"
     ]
    }
   ],
   "source": [
    "List_inside_list.remove('dep6')\n",
    "print(List_inside_list)"
   ]
  },
  {
   "cell_type": "markdown",
   "id": "57f06a9b-e4f3-453c-a426-785eb6c1ccc0",
   "metadata": {},
   "source": [
    "* ## Poping Elements"
   ]
  },
  {
   "cell_type": "code",
   "execution_count": 175,
   "id": "8192abf2-e78b-421f-a668-d4b4c397e147",
   "metadata": {},
   "outputs": [
    {
     "name": "stdout",
     "output_type": "stream",
     "text": [
      "[1, 2, 4, 5, 6, 7, 8, 9, 10, 11, 12, 13, 14, 15, 16, 17, 18, 19, 21, 23]\n"
     ]
    }
   ],
   "source": [
    "num_list.pop(2)\n",
    "print (num_list)"
   ]
  },
  {
   "cell_type": "code",
   "execution_count": 176,
   "id": "e4608354-5f4d-4f30-92dd-2fcda99d5eba",
   "metadata": {},
   "outputs": [
    {
     "name": "stdout",
     "output_type": "stream",
     "text": [
      "7\n"
     ]
    }
   ],
   "source": [
    "a = num_list.pop(5)\n",
    "print (a)"
   ]
  },
  {
   "cell_type": "code",
   "execution_count": 177,
   "id": "4c31d86e-3876-4248-9171-31c38fe22989",
   "metadata": {},
   "outputs": [
    {
     "name": "stdout",
     "output_type": "stream",
     "text": [
      "[1, 2, 4, 5, 6, 8, 9, 10, 11, 12, 13, 14, 15, 16, 17, 18, 19, 21, 23]\n"
     ]
    }
   ],
   "source": [
    "print (num_list)"
   ]
  },
  {
   "cell_type": "markdown",
   "id": "36744c9b-03b5-49da-b5f1-a0b7877a361f",
   "metadata": {},
   "source": [
    "* ## Clearing Elements"
   ]
  },
  {
   "cell_type": "code",
   "execution_count": 178,
   "id": "f5e889d5-a12b-45c6-b400-bc9a15687ebc",
   "metadata": {},
   "outputs": [
    {
     "name": "stdout",
     "output_type": "stream",
     "text": [
      "[]\n"
     ]
    }
   ],
   "source": [
    "num_list.clear()\n",
    "print(num_list)"
   ]
  },
  {
   "cell_type": "code",
   "execution_count": 179,
   "id": "6ef46e97-cccc-4649-9682-fb6d686c7fca",
   "metadata": {},
   "outputs": [
    {
     "name": "stdout",
     "output_type": "stream",
     "text": [
      "[]\n"
     ]
    }
   ],
   "source": [
    "print(num_list)"
   ]
  },
  {
   "cell_type": "markdown",
   "id": "9d6ed25c-5c03-4841-bea6-c9998b506b2f",
   "metadata": {},
   "source": [
    "* ## Copy Elements"
   ]
  },
  {
   "cell_type": "code",
   "execution_count": 180,
   "id": "21cd198c-fdbd-4b2d-ac1c-b7cb193f3fa5",
   "metadata": {},
   "outputs": [
    {
     "name": "stdout",
     "output_type": "stream",
     "text": [
      "[1, 2, 3, 4, 5, 6, 7, 8, 9, 10, 'one', 'two', 'three', 'four', 'five', 'six', 'seven', 'eight', 'nine', 'ten', [1, 2, 3, 'Apple', 'boll', 'cat', 'dog']]\n"
     ]
    }
   ],
   "source": [
    "mylist = [1,2,3,4,5,6,7,8,9,10,'one','two','three','four','five','six','seven','eight','nine','ten',[1,2,3,'Apple','boll','cat','dog']]\n",
    "print(mylist)"
   ]
  },
  {
   "cell_type": "code",
   "execution_count": 181,
   "id": "03dbe404-593c-42a5-be7c-56739b99435c",
   "metadata": {},
   "outputs": [
    {
     "name": "stdout",
     "output_type": "stream",
     "text": [
      "[1, 2, 3, 4, 5, 6, 7, 8, 9, 10, 'one', 'two', 'three', 'four', 'five', 'six', 'seven', 'eight', 'nine', 'ten', [1, 2, 3, 'Apple', 'boll', 'cat', 'dog']]\n"
     ]
    }
   ],
   "source": [
    "newlist = mylist.copy()\n",
    "print(newlist)"
   ]
  },
  {
   "cell_type": "markdown",
   "id": "4bb8cb56-e64e-4e62-9a30-2c182016d63f",
   "metadata": {},
   "source": [
    "# List Funcation & Methods"
   ]
  },
  {
   "cell_type": "markdown",
   "id": "3c853e4e-a8fd-4b16-b227-df81ffd7e3e0",
   "metadata": {},
   "source": [
    "## 1. Length"
   ]
  },
  {
   "cell_type": "code",
   "execution_count": 182,
   "id": "7474acf2-ba0f-453b-867c-ffb10708a67a",
   "metadata": {},
   "outputs": [
    {
     "name": "stdout",
     "output_type": "stream",
     "text": [
      "[10, 20, 30, 40, 50, 60, 70, 80, 90, 100, 110, 120, 130, 140, 150]\n"
     ]
    }
   ],
   "source": [
    "numblist = [ 10,20,30,40,50,60,70,80,90,100,110,120,130,140,150]\n",
    "print(numblist)"
   ]
  },
  {
   "cell_type": "code",
   "execution_count": 183,
   "id": "8301f1b3-5201-4907-8dae-2d7e99096bbe",
   "metadata": {},
   "outputs": [
    {
     "data": {
      "text/plain": [
       "15"
      ]
     },
     "execution_count": 183,
     "metadata": {},
     "output_type": "execute_result"
    }
   ],
   "source": [
    "len(numblist)"
   ]
  },
  {
   "cell_type": "code",
   "execution_count": 184,
   "id": "91c8211d-1136-45b8-9a96-f48ce4f00b7b",
   "metadata": {},
   "outputs": [
    {
     "data": {
      "text/plain": [
       "21"
      ]
     },
     "execution_count": 184,
     "metadata": {},
     "output_type": "execute_result"
    }
   ],
   "source": [
    "len(newlist)"
   ]
  },
  {
   "cell_type": "code",
   "execution_count": 185,
   "id": "552855c5-f476-46d3-b0a3-3102f9b0b076",
   "metadata": {},
   "outputs": [
    {
     "data": {
      "text/plain": [
       "12"
      ]
     },
     "execution_count": 185,
     "metadata": {},
     "output_type": "execute_result"
    }
   ],
   "source": [
    "len(str_list)"
   ]
  },
  {
   "cell_type": "code",
   "execution_count": 186,
   "id": "d13f0394-1280-4ee6-ae19-b1a83cd30bd2",
   "metadata": {},
   "outputs": [
    {
     "data": {
      "text/plain": [
       "3"
      ]
     },
     "execution_count": 186,
     "metadata": {},
     "output_type": "execute_result"
    }
   ],
   "source": [
    "len(List_inside_list)"
   ]
  },
  {
   "cell_type": "markdown",
   "id": "7e503ce8-8ad4-4168-b2f9-03b30607ade9",
   "metadata": {},
   "source": [
    "## 2. Max"
   ]
  },
  {
   "cell_type": "code",
   "execution_count": 187,
   "id": "d6704c2a-62d4-4685-8c27-b30d13157496",
   "metadata": {},
   "outputs": [
    {
     "data": {
      "text/plain": [
       "150"
      ]
     },
     "execution_count": 187,
     "metadata": {},
     "output_type": "execute_result"
    }
   ],
   "source": [
    "max(numblist)"
   ]
  },
  {
   "cell_type": "code",
   "execution_count": 188,
   "id": "dec9ce64-ba33-4c7d-b0cf-7546c4bd842a",
   "metadata": {},
   "outputs": [
    {
     "data": {
      "text/plain": [
       "'Shourya'"
      ]
     },
     "execution_count": 188,
     "metadata": {},
     "output_type": "execute_result"
    }
   ],
   "source": [
    "max(str_list)"
   ]
  },
  {
   "cell_type": "markdown",
   "id": "060ffc5c-8580-48ee-9bae-28dc62802c81",
   "metadata": {},
   "source": [
    "## 3. Min"
   ]
  },
  {
   "cell_type": "code",
   "execution_count": 189,
   "id": "df2631b9-332a-4f72-81a9-11477966befa",
   "metadata": {},
   "outputs": [
    {
     "data": {
      "text/plain": [
       "10"
      ]
     },
     "execution_count": 189,
     "metadata": {},
     "output_type": "execute_result"
    }
   ],
   "source": [
    "min(numblist)"
   ]
  },
  {
   "cell_type": "code",
   "execution_count": 190,
   "id": "23296a5e-b0ee-46dc-8885-31e4cfbef739",
   "metadata": {},
   "outputs": [
    {
     "data": {
      "text/plain": [
       "'Aarti'"
      ]
     },
     "execution_count": 190,
     "metadata": {},
     "output_type": "execute_result"
    }
   ],
   "source": [
    "min(str_list)"
   ]
  },
  {
   "cell_type": "markdown",
   "id": "70370b99-3f80-4b4a-ba8e-f3f1ee048737",
   "metadata": {},
   "source": [
    "## 4. Sum"
   ]
  },
  {
   "cell_type": "code",
   "execution_count": 191,
   "id": "0f5e3ec9-cbe7-4f92-87b4-3f3b3b0a37cf",
   "metadata": {},
   "outputs": [
    {
     "data": {
      "text/plain": [
       "1200"
      ]
     },
     "execution_count": 191,
     "metadata": {},
     "output_type": "execute_result"
    }
   ],
   "source": [
    "sum(numblist)"
   ]
  },
  {
   "cell_type": "markdown",
   "id": "992f0a2a-22a7-424c-a276-f74fe656b63a",
   "metadata": {},
   "source": [
    "## 5.Sorted"
   ]
  },
  {
   "cell_type": "code",
   "execution_count": 192,
   "id": "4a6f576b-0902-49f8-88c7-8bc79c33b64a",
   "metadata": {},
   "outputs": [
    {
     "data": {
      "text/plain": [
       "['Aarti',\n",
       " 'Aasth',\n",
       " 'Danish',\n",
       " 'Garg',\n",
       " 'Nudr',\n",
       " 'Pallavi Tai',\n",
       " 'Pooj',\n",
       " 'Riddhima',\n",
       " 'Rishit',\n",
       " 'Shardul',\n",
       " 'Sharvil',\n",
       " 'Shourya']"
      ]
     },
     "execution_count": 192,
     "metadata": {},
     "output_type": "execute_result"
    }
   ],
   "source": [
    "sorted(str_list)"
   ]
  },
  {
   "cell_type": "code",
   "execution_count": 193,
   "id": "b0baa120-df8e-41be-bd4b-ba2ae23ad3c0",
   "metadata": {},
   "outputs": [
    {
     "data": {
      "text/plain": [
       "[10, 20, 30, 40, 50, 60, 70, 80, 90, 100, 110, 120, 130, 140, 150]"
      ]
     },
     "execution_count": 193,
     "metadata": {},
     "output_type": "execute_result"
    }
   ],
   "source": [
    "sorted(numblist)"
   ]
  },
  {
   "cell_type": "markdown",
   "id": "fec9fe92-ea85-44b9-a159-da3158e8497e",
   "metadata": {},
   "source": [
    "## 6.Reverse"
   ]
  },
  {
   "cell_type": "code",
   "execution_count": 194,
   "id": "1ee7e580-8a8c-4219-ac01-2235b0ff6aea",
   "metadata": {},
   "outputs": [
    {
     "name": "stdout",
     "output_type": "stream",
     "text": [
      "[150, 140, 130, 120, 110, 100, 90, 80, 70, 60, 50, 40, 30, 20, 10]\n"
     ]
    }
   ],
   "source": [
    "numblist.reverse()\n",
    "print(numblist)"
   ]
  },
  {
   "cell_type": "code",
   "execution_count": 195,
   "id": "dd357b5a-c7f8-4c74-af84-544df41761f2",
   "metadata": {},
   "outputs": [
    {
     "name": "stdout",
     "output_type": "stream",
     "text": [
      "[[1, 2, 3, 'Apple', 'boll', 'cat', 'dog'], 'ten', 'nine', 'eight', 'seven', 'six', 'five', 'four', 'three', 'two', 'one', 10, 9, 8, 7, 6, 5, 4, 3, 2, 1]\n"
     ]
    }
   ],
   "source": [
    "newlist.reverse()\n",
    "print(newlist)"
   ]
  },
  {
   "cell_type": "code",
   "execution_count": 196,
   "id": "4f9df143-7dce-427f-a931-6c3beb23d3b3",
   "metadata": {},
   "outputs": [
    {
     "name": "stdout",
     "output_type": "stream",
     "text": [
      "[[10, 20, 30, 40, 50, 'emp1', 'emp2', 'emp3'], ['101', '102', '103', '104', '105'], ['dep1', 'dep2', 'dep3', 'dep4', 'dep5']]\n"
     ]
    }
   ],
   "source": [
    "List_inside_list.reverse()\n",
    "print(List_inside_list)"
   ]
  },
  {
   "cell_type": "markdown",
   "id": "da48572b-bf7e-47d1-8f9f-1676c13d1faf",
   "metadata": {},
   "source": [
    "## 7. Sort"
   ]
  },
  {
   "cell_type": "code",
   "execution_count": 197,
   "id": "2ae7dc5b-9426-4082-aa4e-f7f021ac9031",
   "metadata": {},
   "outputs": [
    {
     "name": "stdout",
     "output_type": "stream",
     "text": [
      "[10, 20, 30, 40, 50, 60, 70, 80, 90, 100, 110, 120, 130, 140, 150]\n"
     ]
    }
   ],
   "source": [
    "numblist.sort()\n",
    "print (numblist)"
   ]
  },
  {
   "cell_type": "code",
   "execution_count": 198,
   "id": "0b575930-86ef-45f5-a9d2-adaac68378ab",
   "metadata": {},
   "outputs": [
    {
     "name": "stdout",
     "output_type": "stream",
     "text": [
      "[1, 4, 7, 2, 5, 8, 3, 6, 9, 10, 15, 11, 14, 12, 13, 13, 15, 14, 5, 5, 8, 8, 8, 8]\n"
     ]
    }
   ],
   "source": [
    "ab = [1,4,7,2,5,8,3,6,9,10,15,11,14,12,13,13,15,14,5,5,8,8,8,8]\n",
    "print(ab)"
   ]
  },
  {
   "cell_type": "code",
   "execution_count": 199,
   "id": "a874ae8a-4786-406b-931d-36210b09394f",
   "metadata": {},
   "outputs": [
    {
     "name": "stdout",
     "output_type": "stream",
     "text": [
      "[1, 2, 3, 4, 5, 5, 5, 6, 7, 8, 8, 8, 8, 8, 9, 10, 11, 12, 13, 13, 14, 14, 15, 15]\n"
     ]
    }
   ],
   "source": [
    "ab.sort()\n",
    "print(ab)"
   ]
  },
  {
   "cell_type": "markdown",
   "id": "e3e4307e-9ffc-4523-b530-ba413a978804",
   "metadata": {},
   "source": [
    "## 8.Extend"
   ]
  },
  {
   "cell_type": "code",
   "execution_count": 200,
   "id": "c0a35b9b-1eb3-4443-b303-0fd6193ec671",
   "metadata": {},
   "outputs": [
    {
     "name": "stdout",
     "output_type": "stream",
     "text": [
      "[1, 2, 3, 4, 5, 5, 5, 6, 7, 8, 8, 8, 8, 8, 9, 10, 11, 12, 13, 13, 14, 14, 15, 15, 7, 8]\n"
     ]
    }
   ],
   "source": [
    "ab.extend([7,8])\n",
    "print(ab)"
   ]
  },
  {
   "cell_type": "code",
   "execution_count": 201,
   "id": "c3d9b09a-ade3-4de0-97db-45f65c26c25e",
   "metadata": {},
   "outputs": [
    {
     "name": "stdout",
     "output_type": "stream",
     "text": [
      "[10, 20, 30, 40, 50, 60, 70, 80, 90, 100, 110, 120, 130, 140, 150, 10, 50]\n"
     ]
    }
   ],
   "source": [
    "numblist.extend([10,50])\n",
    "print(numblist)"
   ]
  },
  {
   "cell_type": "code",
   "execution_count": 202,
   "id": "d33c00e1-49bd-403c-a385-e7b72acd502c",
   "metadata": {},
   "outputs": [
    {
     "name": "stdout",
     "output_type": "stream",
     "text": [
      "['Rishit', 'Sharvil', 'Riddhima', 'Shardul', 'Aarti', 'Aasth', 'Danish', 'Nudr', 'Pooj', 'Garg', 'Pallavi Tai', 'Shourya', 'Rishit', 'Pooja', 'Gargi']\n"
     ]
    }
   ],
   "source": [
    "str_list.extend(['Rishit','Pooja','Gargi'])\n",
    "print(str_list)"
   ]
  },
  {
   "cell_type": "markdown",
   "id": "f8a3841a-376d-49b7-bdd1-632a3a05bb42",
   "metadata": {},
   "source": [
    "## 9.Count\n"
   ]
  },
  {
   "cell_type": "code",
   "execution_count": 203,
   "id": "16646e64-83fb-4814-9b76-209d937b6d32",
   "metadata": {},
   "outputs": [
    {
     "data": {
      "text/plain": [
       "1"
      ]
     },
     "execution_count": 203,
     "metadata": {},
     "output_type": "execute_result"
    }
   ],
   "source": [
    "ab.count(2)"
   ]
  },
  {
   "cell_type": "code",
   "execution_count": 204,
   "id": "f4f7b63b-dfac-45e7-b2e7-9a92c3827c2e",
   "metadata": {},
   "outputs": [
    {
     "data": {
      "text/plain": [
       "6"
      ]
     },
     "execution_count": 204,
     "metadata": {},
     "output_type": "execute_result"
    }
   ],
   "source": [
    "ab.count(8)"
   ]
  },
  {
   "cell_type": "code",
   "execution_count": 205,
   "id": "dc7ecb09-d448-4d36-bfeb-ff118a62b0ab",
   "metadata": {},
   "outputs": [
    {
     "data": {
      "text/plain": [
       "2"
      ]
     },
     "execution_count": 205,
     "metadata": {},
     "output_type": "execute_result"
    }
   ],
   "source": [
    "str_list.count('Rishit')"
   ]
  },
  {
   "cell_type": "code",
   "execution_count": 206,
   "id": "33cff376-46d1-4e1c-9008-d3eb3c6d9ff4",
   "metadata": {},
   "outputs": [
    {
     "data": {
      "text/plain": [
       "1"
      ]
     },
     "execution_count": 206,
     "metadata": {},
     "output_type": "execute_result"
    }
   ],
   "source": [
    "newlist.count(1)"
   ]
  },
  {
   "cell_type": "markdown",
   "id": "b938c5df-c71e-43bb-a569-911414bed600",
   "metadata": {},
   "source": [
    "## 10.Index"
   ]
  },
  {
   "cell_type": "code",
   "execution_count": 207,
   "id": "6f5f55a6-4707-4439-9aec-5d3f51a0c510",
   "metadata": {},
   "outputs": [
    {
     "data": {
      "text/plain": [
       "1"
      ]
     },
     "execution_count": 207,
     "metadata": {},
     "output_type": "execute_result"
    }
   ],
   "source": [
    "ab.index(2)"
   ]
  },
  {
   "cell_type": "code",
   "execution_count": 208,
   "id": "9074ebec-52e3-470e-a461-7bfcd9a662ae",
   "metadata": {},
   "outputs": [
    {
     "data": {
      "text/plain": [
       "13"
      ]
     },
     "execution_count": 208,
     "metadata": {},
     "output_type": "execute_result"
    }
   ],
   "source": [
    "str_list.index('Pooja')"
   ]
  },
  {
   "cell_type": "code",
   "execution_count": 209,
   "id": "e1c3b8d3-637e-4f6d-a99e-bb9a760c3f7f",
   "metadata": {},
   "outputs": [
    {
     "data": {
      "text/plain": [
       "10"
      ]
     },
     "execution_count": 209,
     "metadata": {},
     "output_type": "execute_result"
    }
   ],
   "source": [
    "newlist.index('one')"
   ]
  },
  {
   "cell_type": "markdown",
   "id": "d873767f-866b-41a3-b2a2-987f69e16c27",
   "metadata": {},
   "source": [
    "## 11.Copy"
   ]
  },
  {
   "cell_type": "code",
   "execution_count": 210,
   "id": "1c9598b7-05ef-49e2-ab4c-c91daa25b720",
   "metadata": {},
   "outputs": [
    {
     "name": "stdout",
     "output_type": "stream",
     "text": [
      "['Lipstic', 'bodylostion', 'oil', 'powder', 'makeupbox', 11, 11, 22, 22, 33, 44, 55]\n"
     ]
    }
   ],
   "source": [
    "charlist= ['Lipstic','bodylostion','oil','powder','makeupbox',11,11,22,22,33,44,55]\n",
    "print(charlist)"
   ]
  },
  {
   "cell_type": "code",
   "execution_count": 211,
   "id": "37542263-c443-40e8-84d7-86d3c11ca7aa",
   "metadata": {},
   "outputs": [
    {
     "name": "stdout",
     "output_type": "stream",
     "text": [
      "['Lipstic', 'bodylostion', 'oil', 'powder', 'makeupbox', 11, 11, 22, 22, 33, 44, 55]\n"
     ]
    }
   ],
   "source": [
    "comb_list = charlist.copy()\n",
    "print(comb_list)"
   ]
  },
  {
   "cell_type": "markdown",
   "id": "75e2cca2-bbf1-4a67-bf78-f803041d3958",
   "metadata": {},
   "source": [
    "## 12.Fromlist"
   ]
  },
  {
   "cell_type": "code",
   "execution_count": 212,
   "id": "470ad107-9a2a-4784-8d47-d1ee2d70c345",
   "metadata": {},
   "outputs": [
    {
     "ename": "AttributeError",
     "evalue": "'list' object has no attribute 'fromlist'",
     "output_type": "error",
     "traceback": [
      "\u001b[1;31m---------------------------------------------------------------------------\u001b[0m",
      "\u001b[1;31mAttributeError\u001b[0m                            Traceback (most recent call last)",
      "Cell \u001b[1;32mIn[212], line 1\u001b[0m\n\u001b[1;32m----> 1\u001b[0m numblist\u001b[38;5;241m.\u001b[39mfromlist([\u001b[38;5;241m50\u001b[39m,\u001b[38;5;241m70\u001b[39m])\n\u001b[0;32m      2\u001b[0m \u001b[38;5;28mprint\u001b[39m(numb_list)\n",
      "\u001b[1;31mAttributeError\u001b[0m: 'list' object has no attribute 'fromlist'"
     ]
    }
   ],
   "source": [
    "numblist.fromlist([50,70])\n",
    "print(numb_list)"
   ]
  },
  {
   "cell_type": "markdown",
   "id": "466d2b82-0c20-4361-afbf-b174119ff86e",
   "metadata": {},
   "source": [
    "## 13.Pop"
   ]
  },
  {
   "cell_type": "code",
   "execution_count": null,
   "id": "ae116be7-eecf-4c5f-b9a0-950f44a8241e",
   "metadata": {},
   "outputs": [],
   "source": [
    "comb_list.pop(1)\n",
    "print(comb_list)"
   ]
  },
  {
   "cell_type": "code",
   "execution_count": null,
   "id": "7b0a953d-ce78-4734-9a5d-6d9e2f71207a",
   "metadata": {},
   "outputs": [],
   "source": [
    "numblist.pop(5)\n",
    "print(numblist)"
   ]
  },
  {
   "cell_type": "markdown",
   "id": "88f07c71-aedc-49b6-8b42-8b4fa751aad0",
   "metadata": {},
   "source": [
    "## 14.Remove"
   ]
  },
  {
   "cell_type": "code",
   "execution_count": 216,
   "id": "72bd3e80-7a3b-436e-865e-16f09c65a0af",
   "metadata": {},
   "outputs": [
    {
     "ename": "NameError",
     "evalue": "name 'char_list' is not defined",
     "output_type": "error",
     "traceback": [
      "\u001b[1;31m---------------------------------------------------------------------------\u001b[0m",
      "\u001b[1;31mNameError\u001b[0m                                 Traceback (most recent call last)",
      "Cell \u001b[1;32mIn[216], line 1\u001b[0m\n\u001b[1;32m----> 1\u001b[0m char_list\u001b[38;5;241m.\u001b[39mremove(\u001b[38;5;241m5\u001b[39m)\n\u001b[0;32m      2\u001b[0m \u001b[38;5;28mprint\u001b[39m(char_list)\n",
      "\u001b[1;31mNameError\u001b[0m: name 'char_list' is not defined"
     ]
    }
   ],
   "source": [
    "char_list.remove(5)\n",
    "print(char_list)"
   ]
  },
  {
   "cell_type": "markdown",
   "id": "189f2103-ee42-4d20-adf4-962de0fca916",
   "metadata": {},
   "source": [
    "## 15.Insert"
   ]
  },
  {
   "cell_type": "code",
   "execution_count": 215,
   "id": "afcaa7e4-0021-4958-acb5-5d40f6dd7b0e",
   "metadata": {},
   "outputs": [
    {
     "name": "stdout",
     "output_type": "stream",
     "text": [
      "['Lipstic', 'bodylostion', 'Insert', 'oil', 'powder', 'makeupbox', 11, 11, 22, 22, 33, 44, 55]\n"
     ]
    }
   ],
   "source": [
    "comb_list.insert(2,'Insert')\n",
    "print(comb_list)"
   ]
  },
  {
   "cell_type": "code",
   "execution_count": 217,
   "id": "1fe22757-ea7e-4918-894b-c9619a259ed1",
   "metadata": {},
   "outputs": [
    {
     "name": "stdout",
     "output_type": "stream",
     "text": [
      "[10, 20, 30, 40, 50, '5,15,25', 60, 70, 80, 90, 100, 110, 120, 130, 140, 150, 10, 50]\n"
     ]
    }
   ],
   "source": [
    "numblist.insert(5,'5,15,25')\n",
    "print(numblist)                "
   ]
  },
  {
   "cell_type": "markdown",
   "id": "3972b80b-96f0-4762-8753-db98b3390362",
   "metadata": {},
   "source": [
    "## 16.Clear"
   ]
  },
  {
   "cell_type": "code",
   "execution_count": 218,
   "id": "c9ef64a0-ecd7-4ee4-b60f-547086305d0e",
   "metadata": {},
   "outputs": [
    {
     "name": "stdout",
     "output_type": "stream",
     "text": [
      "[]\n"
     ]
    }
   ],
   "source": [
    "comb_list.clear()\n",
    "print(comb_list)"
   ]
  },
  {
   "cell_type": "code",
   "execution_count": null,
   "id": "49b01401-e0d5-470c-8fb9-c859b130576f",
   "metadata": {},
   "outputs": [],
   "source": []
  }
 ],
 "metadata": {
  "kernelspec": {
   "display_name": "Python 3 (ipykernel)",
   "language": "python",
   "name": "python3"
  },
  "language_info": {
   "codemirror_mode": {
    "name": "ipython",
    "version": 3
   },
   "file_extension": ".py",
   "mimetype": "text/x-python",
   "name": "python",
   "nbconvert_exporter": "python",
   "pygments_lexer": "ipython3",
   "version": "3.12.7"
  }
 },
 "nbformat": 4,
 "nbformat_minor": 5
}
